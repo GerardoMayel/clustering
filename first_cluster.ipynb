{
 "cells": [
  {
   "cell_type": "code",
   "execution_count": 1,
   "id": "6a1ffd7d-aaae-47e2-9593-4641138d9043",
   "metadata": {},
   "outputs": [],
   "source": [
    "import pandas as pd\n",
    "import numpy as np"
   ]
  },
  {
   "cell_type": "code",
   "execution_count": 2,
   "id": "19cf501a-610d-43ef-9f28-fdf364b35237",
   "metadata": {},
   "outputs": [],
   "source": [
    "from sklearn.datasets import make_blobs\n",
    "import matplotlib.pyplot as plt"
   ]
  },
  {
   "cell_type": "code",
   "execution_count": 7,
   "id": "5c0a1bf6-7bb1-40dd-bdd1-8e7c56748441",
   "metadata": {},
   "outputs": [],
   "source": [
    "x, y = make_blobs(n_samples=100, centers=4, n_features=2, cluster_std=[1, 1.5, 2, 2], random_state=7)"
   ]
  },
  {
   "cell_type": "code",
   "execution_count": 9,
   "id": "fb62d77f-583c-4f03-b075-d3b729227ca9",
   "metadata": {},
   "outputs": [
    {
     "data": {
      "text/plain": [
       "(100, 2)"
      ]
     },
     "execution_count": 9,
     "metadata": {},
     "output_type": "execute_result"
    }
   ],
   "source": [
    "x.shape"
   ]
  },
  {
   "cell_type": "code",
   "execution_count": 10,
   "id": "58bb06c3-ae4c-4fdd-bbf1-f01aea7cdd81",
   "metadata": {},
   "outputs": [
    {
     "data": {
      "text/plain": [
       "(100,)"
      ]
     },
     "execution_count": 10,
     "metadata": {},
     "output_type": "execute_result"
    }
   ],
   "source": [
    "y.shape"
   ]
  },
  {
   "cell_type": "code",
   "execution_count": 18,
   "id": "a74a32ec-ce86-42a4-8748-b3720f577ecd",
   "metadata": {},
   "outputs": [
    {
     "data": {
      "text/html": [
       "<div>\n",
       "<style scoped>\n",
       "    .dataframe tbody tr th:only-of-type {\n",
       "        vertical-align: middle;\n",
       "    }\n",
       "\n",
       "    .dataframe tbody tr th {\n",
       "        vertical-align: top;\n",
       "    }\n",
       "\n",
       "    .dataframe thead th {\n",
       "        text-align: right;\n",
       "    }\n",
       "</style>\n",
       "<table border=\"1\" class=\"dataframe\">\n",
       "  <thead>\n",
       "    <tr style=\"text-align: right;\">\n",
       "      <th></th>\n",
       "      <th>x1</th>\n",
       "      <th>x2</th>\n",
       "      <th>y</th>\n",
       "    </tr>\n",
       "  </thead>\n",
       "  <tbody>\n",
       "    <tr>\n",
       "      <th>0</th>\n",
       "      <td>-3.384261</td>\n",
       "      <td>5.221740</td>\n",
       "      <td>1</td>\n",
       "    </tr>\n",
       "    <tr>\n",
       "      <th>1</th>\n",
       "      <td>-1.836238</td>\n",
       "      <td>-7.735384</td>\n",
       "      <td>3</td>\n",
       "    </tr>\n",
       "    <tr>\n",
       "      <th>2</th>\n",
       "      <td>-7.456176</td>\n",
       "      <td>6.198874</td>\n",
       "      <td>0</td>\n",
       "    </tr>\n",
       "    <tr>\n",
       "      <th>3</th>\n",
       "      <td>-1.785043</td>\n",
       "      <td>1.609749</td>\n",
       "      <td>1</td>\n",
       "    </tr>\n",
       "    <tr>\n",
       "      <th>4</th>\n",
       "      <td>-10.124910</td>\n",
       "      <td>6.133805</td>\n",
       "      <td>0</td>\n",
       "    </tr>\n",
       "    <tr>\n",
       "      <th>...</th>\n",
       "      <td>...</td>\n",
       "      <td>...</td>\n",
       "      <td>...</td>\n",
       "    </tr>\n",
       "    <tr>\n",
       "      <th>95</th>\n",
       "      <td>7.072755</td>\n",
       "      <td>-0.259937</td>\n",
       "      <td>2</td>\n",
       "    </tr>\n",
       "    <tr>\n",
       "      <th>96</th>\n",
       "      <td>-2.626873</td>\n",
       "      <td>-7.228570</td>\n",
       "      <td>3</td>\n",
       "    </tr>\n",
       "    <tr>\n",
       "      <th>97</th>\n",
       "      <td>-1.521099</td>\n",
       "      <td>1.802284</td>\n",
       "      <td>1</td>\n",
       "    </tr>\n",
       "    <tr>\n",
       "      <th>98</th>\n",
       "      <td>-9.216388</td>\n",
       "      <td>6.670846</td>\n",
       "      <td>0</td>\n",
       "    </tr>\n",
       "    <tr>\n",
       "      <th>99</th>\n",
       "      <td>-1.681382</td>\n",
       "      <td>6.414631</td>\n",
       "      <td>1</td>\n",
       "    </tr>\n",
       "  </tbody>\n",
       "</table>\n",
       "<p>100 rows × 3 columns</p>\n",
       "</div>"
      ],
      "text/plain": [
       "           x1        x2  y\n",
       "0   -3.384261  5.221740  1\n",
       "1   -1.836238 -7.735384  3\n",
       "2   -7.456176  6.198874  0\n",
       "3   -1.785043  1.609749  1\n",
       "4  -10.124910  6.133805  0\n",
       "..        ...       ... ..\n",
       "95   7.072755 -0.259937  2\n",
       "96  -2.626873 -7.228570  3\n",
       "97  -1.521099  1.802284  1\n",
       "98  -9.216388  6.670846  0\n",
       "99  -1.681382  6.414631  1\n",
       "\n",
       "[100 rows x 3 columns]"
      ]
     },
     "execution_count": 18,
     "metadata": {},
     "output_type": "execute_result"
    }
   ],
   "source": [
    "df = pd.DataFrame(\n",
    "    {\n",
    "    'x1' : x[:,0],\n",
    "    'x2': x[:,1],\n",
    "    'y' : y\n",
    "    }\n",
    "        )\n",
    "df"
   ]
  },
  {
   "cell_type": "code",
   "execution_count": null,
   "id": "dd692141-2404-4c42-be09-8dc45bf97194",
   "metadata": {},
   "outputs": [],
   "source": [
    "def plot_2d_clusters(x, y, ax):\n",
    "    y_uniques = pd.series(y).unique()\n",
    "\n",
    "    for cluster in y_uniques:\n",
    "        x[y==cluster].plot(\n",
    "            title=f'''{len(y_uniques)} Clusters''',\n",
    "            kind='scatter',\n",
    "            x='x1',\n",
    "            y='x2',\n",
    "            marker=f'${cluster}'\n",
    "            ax=ax\n",
    "            \n",
    "        )\n",
    "    \n",
    "    "
   ]
  }
 ],
 "metadata": {
  "kernelspec": {
   "display_name": "clustering_venv",
   "language": "python",
   "name": "clustering_venv"
  },
  "language_info": {
   "codemirror_mode": {
    "name": "ipython",
    "version": 3
   },
   "file_extension": ".py",
   "mimetype": "text/x-python",
   "name": "python",
   "nbconvert_exporter": "python",
   "pygments_lexer": "ipython3",
   "version": "3.8.3"
  }
 },
 "nbformat": 4,
 "nbformat_minor": 5
}
